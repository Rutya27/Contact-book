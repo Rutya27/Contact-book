{
 "cells": [
  {
   "cell_type": "markdown",
   "id": "89cfccaa",
   "metadata": {},
   "source": [
    "# Task:-3"
   ]
  },
  {
   "cell_type": "markdown",
   "id": "7cb9c5ca",
   "metadata": {},
   "source": [
    "# Contact Book:\n",
    "                           This python program creates a creates a contact book using a class called ContactBook. it allows users to add,search,display,and delete contacts. contacts are stored in a dictionary where the name is the key and the phone number is the value.Example usage demonstrates how to interact with the contact book by adding, displaying, searching for and deleting contacts."
   ]
  },
  {
   "cell_type": "code",
   "execution_count": 1,
   "id": "e56a3447",
   "metadata": {},
   "outputs": [
    {
     "name": "stdout",
     "output_type": "stream",
     "text": [
      "contact'Sidd mokashi'added successfully.\n",
      "contact'Rutuja molawade'added successfully.\n",
      "contacts:\n",
      "Name:{name}\t Number:{number}\n",
      "Name:{name}\t Number:{number}\n",
      "Name:{name}\t Number:{self.contacts[name]}\n",
      "Contact'Alice'not found.\n",
      "contact'Rutuja molawade'deleted successfully.\n",
      "contacts:\n",
      "Name:{name}\t Number:{number}\n"
     ]
    }
   ],
   "source": [
    "class ContactBook:\n",
    "    def __init__(self):\n",
    "        self.contacts = {}\n",
    "    def add_contact(self,name,number):\n",
    "        self.contacts[name] =number\n",
    "        print(f\"contact'{name}'added successfully.\")\n",
    "    def search_contact(self,name):\n",
    "        if name in self.contacts:\n",
    "            print(\"Name:{name}\\t Number:{self.contacts[name]}\")\n",
    "        else:\n",
    "            print(f\"Contact'{name}'not found.\")\n",
    "            \n",
    "    def display_contacts(self):\n",
    "        if self.contacts:\n",
    "            print(\"contacts:\")\n",
    "            for name,number in self.contacts.items():\n",
    "                print(\"Name:{name}\\t Number:{number}\")\n",
    "        else:\n",
    "            print(\"no contact to dislplay.\")\n",
    "    def delete_contact(self,name):\n",
    "        if name in self.contacts:\n",
    "            del self.contacts[name]\n",
    "            print(f\"contact'{name}'deleted successfully.\")\n",
    "        else:\n",
    "            print(f\"Contact'{name}'not found.\")\n",
    "            \n",
    "#Example usage\n",
    "\n",
    "contact_book = ContactBook()\n",
    "contact_book.add_contact(\"Sidd mokashi\",\"1234567890\")\n",
    "contact_book.add_contact(\"Rutuja molawade\",\"0987654321\")\n",
    "\n",
    "contact_book.display_contacts()\n",
    "\n",
    "contact_book.search_contact(\"Sidd mokashi\")\n",
    "contact_book.search_contact(\"Alice\")\n",
    "\n",
    "contact_book.delete_contact(\"Rutuja molawade\")\n",
    "contact_book.display_contacts()"
   ]
  },
  {
   "cell_type": "code",
   "execution_count": null,
   "id": "e285800f",
   "metadata": {},
   "outputs": [],
   "source": []
  }
 ],
 "metadata": {
  "kernelspec": {
   "display_name": "Python 3 (ipykernel)",
   "language": "python",
   "name": "python3"
  },
  "language_info": {
   "codemirror_mode": {
    "name": "ipython",
    "version": 3
   },
   "file_extension": ".py",
   "mimetype": "text/x-python",
   "name": "python",
   "nbconvert_exporter": "python",
   "pygments_lexer": "ipython3",
   "version": "3.11.4"
  }
 },
 "nbformat": 4,
 "nbformat_minor": 5
}
